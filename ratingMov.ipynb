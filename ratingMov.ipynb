{
 "cells": [
  {
   "cell_type": "code",
   "execution_count": null,
   "id": "021315fa",
   "metadata": {},
   "outputs": [],
   "source": [
    "# Capstone Project: Scraping IMDb’s Top Movies"
   ]
  }
 ],
 "metadata": {
  "language_info": {
   "name": "python"
  }
 },
 "nbformat": 4,
 "nbformat_minor": 5
}
